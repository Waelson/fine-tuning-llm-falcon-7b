{
  "cells": [
    {
      "cell_type": "code",
      "execution_count": null,
      "metadata": {
        "collapsed": true,
        "id": "zz4VkUe5SGks"
      },
      "outputs": [],
      "source": [
        "!pip install transformers datasets accelerate peft bitsandbytes torch"
      ]
    },
    {
      "cell_type": "code",
      "execution_count": null,
      "metadata": {
        "id": "L3gGzf-8SZF5"
      },
      "outputs": [],
      "source": [
        "import torch\n",
        "from transformers import AutoModelForCausalLM, AutoTokenizer, TrainingArguments, Trainer\n",
        "from datasets import Dataset\n",
        "from peft import get_peft_model, LoraConfig, TaskType"
      ]
    },
    {
      "cell_type": "code",
      "execution_count": null,
      "metadata": {
        "id": "vXfj9_soSpPI"
      },
      "outputs": [],
      "source": [
        "# Nome do modelo\n",
        "MODEL_NAME = \"tiiuae/falcon-7b\""
      ]
    },
    {
      "cell_type": "code",
      "execution_count": null,
      "metadata": {
        "collapsed": true,
        "id": "qnB78q6qStP1"
      },
      "outputs": [],
      "source": [
        "# Carregar o tokenizador\n",
        "tokenizer = AutoTokenizer.from_pretrained(MODEL_NAME) "
      ]
    },
    {
      "cell_type": "code",
      "execution_count": null,
      "metadata": {
        "id": "pe1SXyvgY_Hs"
      },
      "outputs": [],
      "source": [
        "tokenizer.pad_token = tokenizer.eos_token # Usar o token de EOS para padding"
      ]
    },
    {
      "cell_type": "code",
      "execution_count": null,
      "metadata": {
        "id": "xXzkXRl-Sw1e"
      },
      "outputs": [],
      "source": [
        "\n",
        "# Carregar o modelo com quantização para economizar memória\n",
        "model = AutoModelForCausalLM.from_pretrained(\n",
        "    MODEL_NAME,\n",
        "    torch_dtype=torch.float16,  # Usa menos VRAM\n",
        "    device_map=\"auto\"  # Distribui automaticamente entre CPU e GPU\n",
        ")"
      ]
    },
    {
      "cell_type": "code",
      "execution_count": null,
      "metadata": {
        "id": "n83A_dzjS0EE"
      },
      "outputs": [],
      "source": [
        "# Dados de treino\n",
        "data = [\n",
        "    {\"input\": \"O que é Golang?\", \"output\": \"Golang, ou Go, é uma linguagem de programação criada pelo Google em 2007, focada em desempenho, concorrência e simplicidade.\"},\n",
        "    {\"input\": \"Quais são as principais características do Golang?\", \"output\": \"Golang é conhecido por sua sintaxe simples, garbage collection eficiente, suporte nativo à concorrência e compilação rápida.\"},\n",
        "    {\"input\": \"O que são goroutines em Golang?\", \"output\": \"Goroutines são funções ou métodos executados de forma concorrente em Go, sendo mais leves que threads do sistema operacional.\"},\n",
        "    {\"input\": \"Como criar uma goroutine em Go?\", \"output\": \"Basta usar a palavra-chave 'go' antes de chamar uma função, como em 'go minhaFuncao()'.\"},\n",
        "    {\"input\": \"O que é um canal (channel) em Golang?\", \"output\": \"Canais são estruturas de comunicação entre goroutines, permitindo a troca segura de dados concorrentes.\"},\n",
        "    {\"input\": \"Qual é a diferença entre um buffer e um canal sem buffer em Golang?\", \"output\": \"Canais sem buffer bloqueiam o envio até que haja um receptor, enquanto canais com buffer armazenam mensagens até o limite do buffer.\"},\n",
        "    {\"input\": \"Como declarar uma variável em Golang?\", \"output\": \"Use 'var nome tipo' ou ':=' para inferência de tipo, como 'var idade int' ou 'idade := 25'.\"},\n",
        "    {\"input\": \"Golang é uma linguagem compilada ou interpretada?\", \"output\": \"Golang é uma linguagem compilada, gerando binários executáveis sem necessidade de uma máquina virtual.\"},\n",
        "    {\"input\": \"O que são interfaces em Golang?\", \"output\": \"Interfaces definem um conjunto de métodos que um tipo deve implementar, permitindo polimorfismo sem herança.\"},\n",
        "    {\"input\": \"Como funciona o gerenciamento de memória em Golang?\", \"output\": \"Go possui um garbage collector que gerencia automaticamente a alocação e desalocação de memória.\"},\n",
        "    {\"input\": \"O que é um struct em Golang?\", \"output\": \"Structs são tipos compostos que agrupam múltiplos campos de dados, semelhantes a classes, mas sem herança.\"},\n",
        "    {\"input\": \"Como definir um struct em Go?\", \"output\": \"Use a palavra-chave 'type' seguida do nome e dos campos, como 'type Pessoa struct { Nome string; Idade int }'.\"},\n",
        "    {\"input\": \"Go suporta orientação a objetos?\", \"output\": \"Go não possui classes nem herança, mas suporta composição via structs e interfaces.\"},\n",
        "    {\"input\": \"Como tratar erros em Golang?\", \"output\": \"Go usa a abordagem explícita de erros, retornando valores 'error' em funções e verificando com 'if err != nil'.\"},\n",
        "    {\"input\": \"Como declarar e utilizar um array em Go?\", \"output\": \"Arrays são declarados com 'var a [5]int' e têm tamanho fixo, sendo acessados via índices.\"},\n",
        "    {\"input\": \"O que são slices em Golang?\", \"output\": \"Slices são abstrações flexíveis sobre arrays, permitindo redimensionamento dinâmico e melhor gerenciamento de memória.\"},\n",
        "    {\"input\": \"Qual a diferença entre array e slice em Go?\", \"output\": \"Arrays têm tamanho fixo, enquanto slices são referências a arrays e podem crescer dinamicamente.\"},\n",
        "    {\"input\": \"Como inicializar um map em Go?\", \"output\": \"Use 'make(map[string]int)' ou 'map[string]int{'chave': 10}' para criar um dicionário de chave-valor.\"},\n",
        "    {\"input\": \"Go tem suporte para exceções?\", \"output\": \"Go não possui exceções como Java ou Python, mas usa 'panic' e 'recover' para capturar falhas críticas.\"},\n",
        "    {\"input\": \"Como funciona defer em Go?\", \"output\": \"O 'defer' adia a execução de uma função até o final do escopo atual, útil para liberar recursos como arquivos.\"},\n",
        "    {\"input\": \"O que é o pacote fmt em Go?\", \"output\": \"O pacote 'fmt' fornece funções para formatação e impressão de strings, como 'fmt.Println()'.\"},\n",
        "    {\"input\": \"O que é reflection em Golang?\", \"output\": \"Reflection permite inspecionar e modificar tipos e valores em tempo de execução, usando o pacote 'reflect'.\"},\n",
        "    {\"input\": \"O que é um ponteiro em Go?\", \"output\": \"Ponteiros armazenam endereços de memória, permitindo modificar valores sem cópia.\"},\n",
        "    {\"input\": \"Como criar um ponteiro em Go?\", \"output\": \"Use '&' para obter o endereço de uma variável e '*' para acessar o valor, como 'var p *int = &x'.\"},\n",
        "    {\"input\": \"Go possui genéricos?\", \"output\": \"Desde a versão Go 1.18, a linguagem suporta genéricos, permitindo funções e estruturas de dados flexíveis sem perda de tipo.\"},\n",
        "    {\"input\": \"Como instalar pacotes externos em Go?\", \"output\": \"Use 'go get' seguido da URL do pacote, como 'go get github.com/gorilla/mux'.\"},\n",
        "    {\"input\": \"Como definir uma constante em Go?\", \"output\": \"Use a palavra-chave 'const', como em 'const Pi = 3.14'.\"},\n",
        "    {\"input\": \"Como criar um servidor HTTP em Go?\", \"output\": \"Use o pacote 'net/http' e a função 'http.ListenAndServe()' para criar um servidor web simples.\"},\n",
        "    {\"input\": \"Quais são os comandos básicos do Go Modules?\", \"output\": \"'go mod init' cria um módulo, 'go mod tidy' limpa dependências e 'go list -m all' lista os pacotes instalados.\"}\n",
        "]\n"
      ]
    },
    {
      "cell_type": "code",
      "execution_count": null,
      "metadata": {
        "id": "Bc3dCiLlS9C2"
      },
      "outputs": [],
      "source": [
        "# Converter para Dataset Hugging Face\n",
        "dataset = Dataset.from_list(data)"
      ]
    },
    {
      "cell_type": "code",
      "execution_count": null,
      "metadata": {
        "id": "JYt4TpEbS-O2"
      },
      "outputs": [],
      "source": [
        "# Tokenizar e criar labels\n",
        "def tokenize_function(examples):\n",
        "    prompt = \"Pergunta: \" + examples[\"input\"] + \"\\nResposta: \" + examples[\"output\"]\n",
        "\n",
        "    # Tokenizar entrada e saída juntas\n",
        "    tokens = tokenizer(prompt, truncation=True, padding=\"max_length\", max_length=512)\n",
        "\n",
        "    # Criar labels: rótulos são os mesmos input_ids, mas ignoramos o padding (-100)\n",
        "    tokens[\"labels\"] = tokens[\"input_ids\"].copy()\n",
        "    tokens[\"labels\"] = [\n",
        "        -100 if token == tokenizer.pad_token_id else token for token in tokens[\"labels\"]\n",
        "    ]\n",
        "\n",
        "    return tokens\n"
      ]
    },
    {
      "cell_type": "code",
      "execution_count": null,
      "metadata": {
        "id": "_rBgTj1YTDGh"
      },
      "outputs": [],
      "source": [
        "# Tokenizar o dataset\n",
        "dataset = dataset.map(tokenize_function) "
      ]
    },
    {
      "cell_type": "code",
      "execution_count": null,
      "metadata": {
        "id": "Ys3_R6ONTHMP"
      },
      "outputs": [],
      "source": [
        "# Configurar LoRA\n",
        "lora_config = LoraConfig(\n",
        "    r=8,  # Define o tamanho das matrizes auxiliares LoRA\n",
        "    lora_alpha=32,  # Define a escala do ajuste LoRA\n",
        "    lora_dropout=0.05,  # Adiciona dropout para evitar overfitting\n",
        "    bias=\"none\", # Remove o bias para economizar memória\n",
        "    task_type=TaskType.CAUSAL_LM  # Define o modelo como um \"causal language model\"\n",
        ")"
      ]
    },
    {
      "cell_type": "code",
      "execution_count": null,
      "metadata": {
        "id": "fc28x0WOTN3-"
      },
      "outputs": [],
      "source": [
        "# Aplicar LoRA ao Falcon 7B\n",
        "model = get_peft_model(model, lora_config)"
      ]
    },
    {
      "cell_type": "code",
      "execution_count": null,
      "metadata": {
        "id": "BTFv5h9HTOxG"
      },
      "outputs": [],
      "source": [
        "# Exibir os parâmetros treináveis do modelo\n",
        "model.print_trainable_parameters()"
      ]
    },
    {
      "cell_type": "code",
      "execution_count": null,
      "metadata": {
        "id": "_cCmoJu9TiGp"
      },
      "outputs": [],
      "source": [
        "# Configurar os hiperparâmetros do treinamento\n",
        "training_args = TrainingArguments(\n",
        "    output_dir=\"./falcon-7b-lora-finetuned\",  # Onde salvar o modelo treinado\n",
        "    per_device_train_batch_size=2,  # Usa batch pequeno para economizar VRAM\n",
        "    gradient_accumulation_steps=4,  # Simula batch maior sem estourar a VRAM\n",
        "    num_train_epochs=3,  # Número de épocas de treinamento\n",
        "    learning_rate=2e-5,  # Taxa de aprendizado otimizada para LoRA (0.00002)\n",
        "    logging_dir=\"./logs\",  # Diretório de logs para análise\n",
        "    logging_steps=10,  # Salvar logs a cada 10 steps\n",
        "    save_strategy=\"epoch\",  # Salvar checkpoints no final de cada época\n",
        "    fp16=True,  # Usa FP16 para reduzir o consumo de VRAM\n",
        "    push_to_hub=False,  # Se quiser salvar no Hugging Face, mude para True\n",
        "    report_to=\"none\"  # 🚀 Isso desativa o W&B corretamente!\n",
        ")"
      ]
    },
    {
      "cell_type": "code",
      "execution_count": null,
      "metadata": {
        "id": "v5GvbXBXTsJc"
      },
      "outputs": [],
      "source": [
        "trainer = Trainer(\n",
        "    model=model,\n",
        "    args=training_args,\n",
        "    train_dataset=dataset\n",
        ")\n",
        "\n",
        "# Iniciar o treinamento\n",
        "trainer.train()"
      ]
    },
    {
      "cell_type": "code",
      "execution_count": null,
      "metadata": {
        "id": "VIeIL2-BTydM"
      },
      "outputs": [],
      "source": [
        "# Salvar modelo treinado\n",
        "model.save_pretrained(\"./falcon-7b-lora-finetuned\") # Salva o modelo\n",
        "tokenizer.save_pretrained(\"./falcon-7b-lora-finetuned\") # Salva o tokenizador"
      ]
    },
    {
      "cell_type": "code",
      "execution_count": null,
      "metadata": {
        "id": "yEiK2JUkT-pj"
      },
      "outputs": [],
      "source": [
        "input_text = \"O que é Golang?\"\n",
        "input_ids = tokenizer(input_text, return_tensors=\"pt\").input_ids.to(\"cuda\") # Tokenizar e mover para GPU"
      ]
    },
    {
      "cell_type": "code",
      "execution_count": null,
      "metadata": {
        "id": "-iXD0vAFUJzF"
      },
      "outputs": [],
      "source": [
        "# Gerar resposta com o modelo treinado\n",
        "output = model.generate(\n",
        "    input_ids, # Entrada\n",
        "    attention_mask=input_ids.ne(tokenizer.pad_token_id), # Ignorar padding\n",
        "    max_length=50, # Tamanho máximo da resposta\n",
        "    temperature=0.5, # Controla a aleatoriedade da resposta\n",
        "    top_p=0.9, # Controla a diversidade da resposta\n",
        "    repetition_penalty=1.2,  # Penaliza palavras repetidas\n",
        "    do_sample=True # Habilita a amostragem\n",
        ")\n",
        "\n",
        "generated_text = tokenizer.decode(output[0], skip_special_tokens=True) # Decodifica e remove tokens especiais\n",
        "\n",
        "print(\"\\n🔹 Resposta Gerada:\\n\", generated_text)"
      ]
    }
  ],
  "metadata": {
    "accelerator": "GPU",
    "colab": {
      "gpuType": "A100",
      "provenance": []
    },
    "kernelspec": {
      "display_name": "Python 3",
      "name": "python3"
    },
    "language_info": {
      "name": "python"
    }
  },
  "nbformat": 4,
  "nbformat_minor": 0
}
